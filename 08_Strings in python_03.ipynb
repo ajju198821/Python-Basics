{
 "cells": [
  {
   "cell_type": "markdown",
   "id": "052b2641",
   "metadata": {},
   "source": [
    "<big><i>\n",
    "All the Notebooks on **Python Internship** lecture series by **[Abdul Aziz MD](https://www.linkedin.com/in/abdul-aziz-md/)**\n",
    "</i></big>"
   ]
  },
  {
   "cell_type": "markdown",
   "id": "bee1a165",
   "metadata": {},
   "source": [
    "## Python String Methods"
   ]
  },
  {
   "attachments": {
    "image.png": {
     "image/png": "[encoded data removed]"
    }
   },
   "cell_type": "markdown",
   "id": "ceba031a",
   "metadata": {},
   "source": [
    "### 1. Python String Split Method\n",
    "\n",
    "In python, the string `split()` method is useful to split the string into a list that contains substrings, and those are separated by the specified separator.\n",
    "\n",
    "![image.png](attachment:image.png)\n",
    "\n",
    "- String Split Method Syntax:\n",
    "\n",
    "`string.split(separator, maxsplit)`\n",
    "\n",
    "If you observe the above syntax, the `split()` method is accepting two parameters `(separator, maxsplit)` and those are optional.\n",
    "\n",
    "- **separator -** It’s a delimiter to split the given string into substrings, and it’s optional. In case if the delimiter is not mentioned, by default, it will consider whitespace as a separator to split the strings.\n",
    "- **maxsplit -** It is useful to define the maximum number of splits, and it’s optional. By default, the maxsplit value is considered as -1 that means no limit on the number of splits."
   ]
  },
  {
   "cell_type": "code",
   "execution_count": 1,
   "id": "c25b702d",
   "metadata": {},
   "outputs": [
    {
     "name": "stdout",
     "output_type": "stream",
     "text": [
      "['Welcome', 'to', 'Pyhon', 'Inernahip']\n",
      "['Suresh', 'Rohini', 'Raju']\n",
      "['Python', 'Java', 'C#']\n"
     ]
    }
   ],
   "source": [
    "msg1 = \"Welcome to Pyhon Inernahip\"\n",
    "msg2 = \"Suresh, Rohini, Raju\"\n",
    "msg3 = \"Python$Java$C#\"\n",
    "lst1 = msg1.split()\n",
    "lst2 = msg2.split(\", \")\n",
    "lst3 = msg3.split(\"$\")\n",
    "print(lst1)\n",
    "print(lst2)\n",
    "print(lst3)"
   ]
  },
  {
   "cell_type": "code",
   "execution_count": 2,
   "id": "42a962ff",
   "metadata": {},
   "outputs": [
    {
     "name": "stdout",
     "output_type": "stream",
     "text": [
      "['Suresh', 'Rohini', 'Raju', 'Lakshmi']\n",
      "['Suresh', 'Rohini,Raju,Lakshmi']\n",
      "['Suresh', 'Rohini', 'Raju,Lakshmi']\n"
     ]
    }
   ],
   "source": [
    "msg1 = \"Suresh,Rohini,Raju,Lakshmi\"\n",
    "lst1 = msg1.split(\",\")\n",
    "lst2 = msg1.split(\",\",1)\n",
    "lst3 = msg1.split(\",\",2)\n",
    "print(lst1)\n",
    "print(lst2)\n",
    "print(lst3)"
   ]
  },
  {
   "attachments": {
    "image.png": {
     "image/png": "[encoded data removed]"
    }
   },
   "cell_type": "markdown",
   "id": "9144642b",
   "metadata": {},
   "source": [
    "### 2. String Replace Method\n",
    "\n",
    "In python, the string replace() method is useful to replace the specified substring or character in all occurrences of the given string.\n",
    "\n",
    "![image.png](attachment:image.png)\n",
    "\n",
    "- String Replace Method Syntax\n",
    "\n",
    "`string.replace(old string/char, new string/char, count)`\n",
    "\n",
    "If you observe the above syntax, the `replace()` method accepts three parameters `(old string/char, new string/char, count)`, and the `count` parameter is optional.\n",
    "\n",
    "- **old string/char -** It’s the old string/character you want to replace.\n",
    "- **new string/char -** The new string/character will replace the old string/character.\n",
    "- **count -** It’s optional and useful to define the number of times the old substring to replace with the new substring."
   ]
  },
  {
   "cell_type": "code",
   "execution_count": 3,
   "id": "357803a4",
   "metadata": {},
   "outputs": [
    {
     "name": "stdout",
     "output_type": "stream",
     "text": [
      "Hello Guest Hello, Learn Python\n",
      "bbbbcc\n",
      "1,2,3,4,5,6,7\n"
     ]
    }
   ],
   "source": [
    "msg1 = \"Hi Guest Hi, Learn Python\"\n",
    "rmsg1 = msg1.replace(\"Hi\",\"Hello\")\n",
    "msg2 = \"aaaacc\"\n",
    "rmsg2 = msg2.replace(\"a\",\"b\")\n",
    "msg3 = \"1 2 3 4 5 6 7\"\n",
    "rmsg3 = msg3.replace(\" \",\",\")\n",
    "print(rmsg1)\n",
    "print(rmsg2)\n",
    "print(rmsg3)"
   ]
  },
  {
   "cell_type": "code",
   "execution_count": 4,
   "id": "23359bff",
   "metadata": {},
   "outputs": [
    {
     "name": "stdout",
     "output_type": "stream",
     "text": [
      "Hello Guest Hello Hello Hello Hello HI HI HI\n",
      "Hi Guest Hi Hi Hi Hi HI HI HI\n",
      "Hello Guest Hi Hi Hi Hi HI HI HI\n",
      "Hello Guest Hello Hi Hi Hi HI HI HI\n"
     ]
    }
   ],
   "source": [
    "msg1 = \"Hi Guest Hi Hi Hi Hi HI HI HI\"\n",
    "rmsg1 = msg1.replace(\"Hi\",\"Hello\")\n",
    "rmsg2 = msg1.replace(\"Hi\",\"Hello\",0)\n",
    "rmsg3 = msg1.replace(\"Hi\",\"Hello\",1)\n",
    "rmsg4 = msg1.replace(\"Hi\",\"Hello\",2)\n",
    "print(rmsg1)\n",
    "print(rmsg2)\n",
    "print(rmsg3)\n",
    "print(rmsg4)\n"
   ]
  },
  {
   "attachments": {
    "image.png": {
     "image/png": "[encoded data removed]"
    }
   },
   "cell_type": "markdown",
   "id": "e23cb773",
   "metadata": {},
   "source": [
    "### 3. String Find Method\n",
    "\n",
    "- In python, the string `find()` method is useful to search the string for specified substring and return the index position of the first occurrence of the specified substring. \n",
    "- In case if the specified substring/character is not found, it will return `-1`.\n",
    "\n",
    "![image.png](attachment:image.png)\n",
    "\n",
    "- String Find Method Syntax\n",
    "\n",
    "`string.find(string/char, startIndex, endIndex)`\n",
    "\n",
    "If you observe the above syntax, the `find()` method accepts three parameters `(string/char, startIndex, endIndex)`. Here, `startIndex`and `endIndex` parameters are optional.\n",
    "\n",
    "- **string/char -** It’s the substring/character you want to search in the string.\n",
    "- **startIndex -** It’s optional and indicates from which index position the search can start. By default, it's 0.\n",
    "- **endIndex -** It’s optional and indicates at which index position the search can end. By default, it's the end of the string."
   ]
  },
  {
   "cell_type": "code",
   "execution_count": 5,
   "id": "61310836",
   "metadata": {},
   "outputs": [
    {
     "name": "stdout",
     "output_type": "stream",
     "text": [
      "Substring 'hi': 9\n",
      "Substring 'Python': 24\n",
      "Substring 'to': 21\n",
      "Substring 'Hi': 0\n"
     ]
    }
   ],
   "source": [
    "msg = \"Hi Guest hi, welcome to Python Internship\"\n",
    "rmsg1 = msg.find(\"hi\")\n",
    "rmsg2 = msg.find(\"Python\")\n",
    "rmsg3 = msg.find(\"to\")\n",
    "rmsg4 = msg.find(\"Hi\")\n",
    "print(\"Substring 'hi':\", rmsg1)\n",
    "print(\"Substring 'Python':\", rmsg2)\n",
    "print(\"Substring 'to':\", rmsg3)\n",
    "print(\"Substring 'Hi':\", rmsg4)"
   ]
  },
  {
   "cell_type": "code",
   "execution_count": 6,
   "id": "3c9befeb",
   "metadata": {},
   "outputs": [
    {
     "name": "stdout",
     "output_type": "stream",
     "text": [
      "Substring 'to': -1\n",
      "Substring 'hi': 11\n",
      "Substring 'Guest': -1\n"
     ]
    }
   ],
   "source": [
    "msg = \"Hi Friends hi, welcome to Pyhon Programming\"\n",
    "rmsg1 = msg.find(\"to\",4,10)\n",
    "rmsg2 = msg.find(\"hi\",1,15)\n",
    "rmsg3 = msg.find(\"Guest\", 2, 8)\n",
    "print(\"Substring 'to':\", rmsg1)\n",
    "print(\"Substring 'hi':\", rmsg2)\n",
    "print(\"Substring 'Guest':\", rmsg3)"
   ]
  },
  {
   "attachments": {
    "image.png": {
     "image/png": "[encoded data removed]"
    }
   },
   "cell_type": "markdown",
   "id": "71dff777",
   "metadata": {},
   "source": [
    "### 4. String Index Method\n",
    "\n",
    "- In python, the string `index()` method is useful to search the string for specified substring and return the index position of the first occurrence of the specified substring. \n",
    "- In case if the specified substring/character is not found, it will raise an exception.\n",
    "\n",
    "![image.png](attachment:image.png)\n",
    "\n",
    "In python, the string `index()` method is same as the string `find()` method, but the only difference is the string `find()` method will return `-1` in case if the specified substring/character is not found, but the `index()` method will raise an exception.\n",
    "\n",
    "- String Index Method Syntax\n",
    "\n",
    "`string.index(string/char, startIndex, endIndex)`\n",
    "\n",
    "If you observe the above syntax, the `index()` method accepts three parameters `(string/char, startIndex, endIndex)`. Here, `startIndex` and `endIndex` parameters are optional.\n",
    "\n",
    "- **string/char -** It’s the substring/character you want to search in the string.\n",
    "- **startIndex -** It’s optional and indicates from which index position the search can start. By default, it's 0.\n",
    "- **endIndex -** It’s optional and indicates at which index position the search can end. By default, it's the end of the string.\n",
    " "
   ]
  },
  {
   "cell_type": "code",
   "execution_count": 7,
   "id": "7b8168a8",
   "metadata": {},
   "outputs": [
    {
     "name": "stdout",
     "output_type": "stream",
     "text": [
      "Substring 'hi': 11\n"
     ]
    },
    {
     "ename": "ValueError",
     "evalue": "substring not found",
     "output_type": "error",
     "traceback": [
      "\u001b[1;31m---------------------------------------------------------------------------\u001b[0m",
      "\u001b[1;31mValueError\u001b[0m                                Traceback (most recent call last)",
      "Cell \u001b[1;32mIn[7], line 4\u001b[0m\n\u001b[0;32m      2\u001b[0m rmsg1 \u001b[38;5;241m=\u001b[39m msg\u001b[38;5;241m.\u001b[39mindex(\u001b[38;5;124m\"\u001b[39m\u001b[38;5;124mhi\u001b[39m\u001b[38;5;124m\"\u001b[39m)\n\u001b[0;32m      3\u001b[0m \u001b[38;5;28mprint\u001b[39m(\u001b[38;5;124m\"\u001b[39m\u001b[38;5;124mSubstring \u001b[39m\u001b[38;5;124m'\u001b[39m\u001b[38;5;124mhi\u001b[39m\u001b[38;5;124m'\u001b[39m\u001b[38;5;124m:\u001b[39m\u001b[38;5;124m\"\u001b[39m, rmsg1)\n\u001b[1;32m----> 4\u001b[0m rmsg2 \u001b[38;5;241m=\u001b[39m \u001b[43mmsg\u001b[49m\u001b[38;5;241;43m.\u001b[39;49m\u001b[43mindex\u001b[49m\u001b[43m(\u001b[49m\u001b[38;5;124;43m\"\u001b[39;49m\u001b[38;5;124;43mPython\u001b[39;49m\u001b[38;5;124;43m\"\u001b[39;49m\u001b[43m)\u001b[49m\n\u001b[0;32m      5\u001b[0m \u001b[38;5;28mprint\u001b[39m(\u001b[38;5;124m\"\u001b[39m\u001b[38;5;124mSubstring \u001b[39m\u001b[38;5;124m'\u001b[39m\u001b[38;5;124mPython\u001b[39m\u001b[38;5;124m'\u001b[39m\u001b[38;5;124m:\u001b[39m\u001b[38;5;124m\"\u001b[39m, rmsg2)\n",
      "\u001b[1;31mValueError\u001b[0m: substring not found"
     ]
    }
   ],
   "source": [
    "msg = \"Hi Friends hi, welcome to Internship\"\n",
    "rmsg1 = msg.index(\"hi\")\n",
    "print(\"Substring 'hi':\", rmsg1)\n",
    "rmsg2 = msg.index(\"Python\")\n",
    "print(\"Substring 'Python':\", rmsg2)"
   ]
  },
  {
   "attachments": {
    "image.png": {
     "image/png": "[encoded data removed]"
    }
   },
   "cell_type": "markdown",
   "id": "d6c1a80d",
   "metadata": {},
   "source": [
    "### 5. String Lower (Lowercase) Method\n",
    "\n",
    "- In python, the string `lower()` method is useful to convert all the string characters to lowercase. \n",
    "- Generally, the lower() method will convert all the uppercase letters in a string to lowercase. \n",
    "- In case, if no uppercase letters in a string, it will return the original string.\n",
    "\n",
    "![image.png](attachment:image.png)\n",
    "\n",
    "- String Lower Method Syntax\n",
    "\n",
    "`string.lower()`\n"
   ]
  },
  {
   "cell_type": "code",
   "execution_count": 8,
   "id": "5587d254",
   "metadata": {},
   "outputs": [
    {
     "name": "stdout",
     "output_type": "stream",
     "text": [
      "hi friends hi\n",
      "welcome to python internship\n",
      "learn python\n"
     ]
    }
   ],
   "source": [
    "msg1 = \"Hi FrienDs Hi\"\n",
    "print(msg1.lower())\n",
    "msg2 = \"WELCOME TO Python INTERNship\"\n",
    "print(msg2.lower())\n",
    "msg3 = \"learn python\"\n",
    "print(msg3.lower())"
   ]
  },
  {
   "attachments": {
    "image.png": {
     "image/png": "[encoded data removed]"
    }
   },
   "cell_type": "markdown",
   "id": "79c01e1d",
   "metadata": {},
   "source": [
    "### 6. String Upper (Uppercase) Method\n",
    "\n",
    "- In python, the string `upper()` method is useful to convert all the string characters to uppercase. \n",
    "- Generally, the `upper()` method will convert all the lowercase letters in a string to uppercase. \n",
    "- In case, if no lowercase letters in a string, it will return the original string.\n",
    "\n",
    "![image.png](attachment:image.png)\n",
    "\n",
    "- String Upper Method Syntax\n",
    "\n",
    "`string.upper()`"
   ]
  },
  {
   "cell_type": "code",
   "execution_count": 9,
   "id": "5dcf5740",
   "metadata": {},
   "outputs": [
    {
     "name": "stdout",
     "output_type": "stream",
     "text": [
      "HI FRIENDS HI\n",
      "WELCOME TO PYTHON INTERHSHIP\n",
      "LEARN PYTHON\n"
     ]
    }
   ],
   "source": [
    "msg1 = \"Hi friends Hi\"\n",
    "print(msg1.upper())\n",
    "msg2 = \"welcome to pyThon interhship\"\n",
    "print(msg2.upper())\n",
    "msg3 = \"LEARN PYTHON\"\n",
    "print(msg3.upper())"
   ]
  },
  {
   "attachments": {
    "image.png": {
     "image/png": "[encoded data removed]"
    }
   },
   "cell_type": "markdown",
   "id": "76648b11",
   "metadata": {},
   "source": [
    "### 7. String Swapcase Method\n",
    "\n",
    "In python, the string `swapcase()` method is useful to convert the given string lowercase characters to uppercase and uppercase characters to lowercase.\n",
    "\n",
    "![image.png](attachment:image.png)\n",
    "\n",
    "- String Swapcase Method Syntax\n",
    "\n",
    "`string.swapcase()`\n"
   ]
  },
  {
   "cell_type": "code",
   "execution_count": 10,
   "id": "d93ccefd",
   "metadata": {},
   "outputs": [
    {
     "name": "stdout",
     "output_type": "stream",
     "text": [
      "hI GUEST hI\n",
      "WELCOME TO iNTERNSHIP\n",
      "learn python\n"
     ]
    }
   ],
   "source": [
    "msg1 = \"Hi guest Hi\"\n",
    "print(msg1.swapcase())\n",
    "msg2 = \"welcome to Internship\"\n",
    "print(msg2.swapcase())\n",
    "msg3 = \"LEARN PYTHON\"\n",
    "print(msg3.swapcase())"
   ]
  },
  {
   "attachments": {
    "image.png": {
     "image/png": "[encoded data removed]"
    }
   },
   "cell_type": "markdown",
   "id": "e23e33bc",
   "metadata": {},
   "source": [
    "### 8. String Title Method\n",
    "\n",
    "- In python, the string `title()` method is useful to convert the first letter of every word in the given string to uppercase. \n",
    "- If the first letter of the word is a number or symbol, it will convert the next letter to uppercase.\n",
    "\n",
    "![image.png](attachment:image.png)\n",
    "\n",
    "- String Title Method Syntax\n",
    "\n",
    "`string.title()`"
   ]
  },
  {
   "cell_type": "code",
   "execution_count": 11,
   "id": "936ba542",
   "metadata": {},
   "outputs": [
    {
     "name": "stdout",
     "output_type": "stream",
     "text": [
      "Hi Guest Hi\n",
      "Welcome To 2Python\n",
      "3#Learn Python\n"
     ]
    }
   ],
   "source": [
    "msg1 = \"hi guest hi\"\n",
    "print(msg1.title())\n",
    "msg2 = \"welcome to 2python\"\n",
    "print(msg2.title())\n",
    "msg3 = \"3#learn python\"\n",
    "print(msg3.title())"
   ]
  },
  {
   "attachments": {
    "image.png": {
     "image/png": "[encoded data removed]"
    }
   },
   "cell_type": "markdown",
   "id": "aa9ac118",
   "metadata": {},
   "source": [
    "### 9. String Capitalize Method\n",
    "\n",
    "In python, the string `capitalize()` method is useful to convert the first letter of the given string to uppercase and remaining all characters to lowercase.\n",
    "\n",
    "![image.png](attachment:image.png)\n",
    "\n",
    "- String Capitalize Method Syntax\n",
    "\n",
    "`string.capitalize()`"
   ]
  },
  {
   "cell_type": "code",
   "execution_count": 12,
   "id": "f9e040da",
   "metadata": {},
   "outputs": [
    {
     "name": "stdout",
     "output_type": "stream",
     "text": [
      "Hi guest hi\n",
      "Welcome to internship\n",
      "2learn python\n"
     ]
    }
   ],
   "source": [
    "msg1 = \"HI Guest HI\"\n",
    "print(msg1.capitalize())\n",
    "msg2 = \"welcome to Internship\"\n",
    "print(msg2.capitalize())\n",
    "msg3 = \"2LEARN PYTHON\"\n",
    "print(msg3.capitalize())"
   ]
  },
  {
   "attachments": {
    "image.png": {
     "image/png": "[encoded data removed]"
    }
   },
   "cell_type": "markdown",
   "id": "2db8b436",
   "metadata": {},
   "source": [
    "### 10. String Count Method\n",
    "\n",
    "In python, the string `count()` method is useful for searching and returning the number of times the specified substring exists in the given string.\n",
    "\n",
    "![image.png](attachment:image.png)\n",
    "\n",
    "- String Count Method Syntax\n",
    "\n",
    "`string.count(string/char, startIndex, endIndex)`\n",
    "\n",
    "- If you observe the above syntax, the `count()` method accepts three parameters `(string/char, startIndex, endIndex)`. Here, `startIndex` and `endIndex` parameters are optional.\n",
    "\n",
    "- **string/char -** It’s the substring/character you want to search in the string, and it’s required.\n",
    "- **startIndex -** It’s optional and indicates from which index position the search can start. By default, it's 0.\n",
    "- **endIndex -** It’s optional and indicates at which index position the search can end. By default, it's the end of the string."
   ]
  },
  {
   "cell_type": "code",
   "execution_count": 14,
   "id": "f6ffe4a9",
   "metadata": {},
   "outputs": [
    {
     "name": "stdout",
     "output_type": "stream",
     "text": [
      "Substring 'hi': 1\n",
      "Substring 'Python': 0\n",
      "Substring 'Hi': 2\n"
     ]
    }
   ],
   "source": [
    "msg = \"Hi Guest Hi, welcome to python internship\"\n",
    "rmsg1 = msg.count(\"hi\")\n",
    "rmsg2 = msg.count(\"Python\")\n",
    "rmsg3 = msg.count(\"Hi\")\n",
    "print(\"Substring 'hi':\", rmsg1)\n",
    "print(\"Substring 'Python':\", rmsg2)\n",
    "print(\"Substring 'Hi':\", rmsg3)"
   ]
  },
  {
   "cell_type": "code",
   "execution_count": 15,
   "id": "678f751e",
   "metadata": {},
   "outputs": [
    {
     "name": "stdout",
     "output_type": "stream",
     "text": [
      "Substring 'to': 0\n",
      "Substring 'Hi': 1\n",
      "Substring 'Guest': 1\n"
     ]
    }
   ],
   "source": [
    "msg = \"Hi Guest Hi, welcome to python internship\"\n",
    "rmsg1 = msg.count(\"to\",4,10)\n",
    "rmsg2 = msg.count(\"Hi\",1,15)\n",
    "rmsg3 = msg.count(\"Guest\", 2, 8)\n",
    "print(\"Substring 'to':\", rmsg1)\n",
    "print(\"Substring 'Hi':\", rmsg2)\n",
    "print(\"Substring 'Guest':\", rmsg3)"
   ]
  },
  {
   "attachments": {
    "image.png": {
     "image/png": "[encoded data removed]"
    }
   },
   "cell_type": "markdown",
   "id": "3762a147",
   "metadata": {},
   "source": [
    "### 11. String Strip Method\n",
    "\n",
    "- In python, the string `strip()` method is useful to remove leading (Beginning) and trailing (End) whitespace characters from the specified string and return the trimmed version of the string.\n",
    "- Using a string `strip()` method, you can also remove all the specified characters' occurrences from the start and end of the specified string.\n",
    "\n",
    "![image.png](attachment:image.png)\n",
    "\n",
    "- String Strip Method Syntax\n",
    "\n",
    "`string.strip()`\n",
    "\n",
    "`string.strip(chars)`\n",
    "\n",
    "- The first `strip()` method syntax is useful for removing the leading and trailing whitespaces from the specified string and won’t take any parameters.\n",
    "- The second `strip()` method syntax is useful to remove the leading and trailing occurrences of the specified characters from the specified string."
   ]
  },
  {
   "cell_type": "code",
   "execution_count": 16,
   "id": "9d32f41a",
   "metadata": {},
   "outputs": [
    {
     "name": "stdout",
     "output_type": "stream",
     "text": [
      "Before Trim:   Welcome     to         python           Internship          .          \n",
      "After Trim: Welcome to python           Internship          .\n",
      "Before Trim: @@**  Abdul Aziz  **@\n",
      "After Trim: Abdul Aziz\n"
     ]
    }
   ],
   "source": [
    "# Trim Whitespaces\n",
    "str1 = \"  Welcome\"\n",
    "str2 = \"    to    \"\n",
    "str3 = \"    python           Internship          .          \"\n",
    "print(\"Before Trim:\", str1, str2, str3);\n",
    "print(\"After Trim:\", str1.strip(), str2.strip(), str3.strip());\n",
    "\n",
    "# Trim with Characters\n",
    "str4 = \"@@**  Abdul Aziz  **@\";\n",
    "print(\"Before Trim:\", str4);\n",
    "print(\"After Trim:\", str4.strip(\"@* \"));"
   ]
  },
  {
   "cell_type": "markdown",
   "id": "bc08093c",
   "metadata": {},
   "source": [
    "- The `strip()` function is removing the spaces and specified characters from both leading and trailing ends from the given string. \n",
    "- If you want to remove only the leading or trailing spaces/characters, you need to use either `lstrip()` or `rstrip()` functions based on your requirements."
   ]
  },
  {
   "cell_type": "code",
   "execution_count": 17,
   "id": "8068bbf3",
   "metadata": {},
   "outputs": [
    {
     "name": "stdout",
     "output_type": "stream",
     "text": [
      "Before Trim:   Welcome     to                    Python\n",
      "After Trim: Welcome to     Python\n",
      "Before Trim: @@** Abdul Aziz  **@\n",
      "After Trim: Abdul Aziz  **@\n"
     ]
    }
   ],
   "source": [
    "# Trim Whitespaces\n",
    "str1 = \"  Welcome\"\n",
    "str2 = \"    to    \"\n",
    "str3 = \"               Python\"\n",
    "print(\"Before Trim:\", str1, str2, str3);\n",
    "print(\"After Trim:\", str1.lstrip(), str2.lstrip(), str3.lstrip());\n",
    "\n",
    "# Trim with Characters\n",
    "str4 = \"@@** Abdul Aziz  **@\";\n",
    "print(\"Before Trim:\", str4);\n",
    "print(\"After Trim:\", str4.lstrip(\"@* \"));"
   ]
  },
  {
   "cell_type": "code",
   "execution_count": 18,
   "id": "9b522798",
   "metadata": {},
   "outputs": [
    {
     "name": "stdout",
     "output_type": "stream",
     "text": [
      "Before Trim:   Welcome     to         python\n",
      "After Trim:   Welcome     to     python\n",
      "Before Trim: @@** Abdul Aziz  **@\n",
      "After Trim: @@** Abdul Aziz\n"
     ]
    }
   ],
   "source": [
    "# Trim Whitespaces\n",
    "str1 = \"  Welcome\"\n",
    "str2 = \"    to    \"\n",
    "str3 = \"    python\"\n",
    "print(\"Before Trim:\", str1, str2, str3);\n",
    "print(\"After Trim:\", str1.rstrip(), str2.rstrip(), str3.rstrip());\n",
    "\n",
    "# Trim with Characters\n",
    "str4 = \"@@** Abdul Aziz  **@\";\n",
    "print(\"Before Trim:\", str4);\n",
    "print(\"After Trim:\", str4.rstrip(\"@* \"));"
   ]
  },
  {
   "attachments": {
    "image.png": {
     "image/png": "[encoded data removed]"
    }
   },
   "cell_type": "markdown",
   "id": "557431b5",
   "metadata": {},
   "source": [
    "### 12. Python String Partition Method\n",
    "\n",
    "- In python, the string `partition()` method is useful to search for the specified string and split the given string into a tuple object with three elements based on the specified string.\n",
    "\n",
    "The three elements in the tuple object will contain the following substring parts.\n",
    "\n",
    "- The first element will contain the substring before the specified string.\n",
    "- The second element will contain the specified string.\n",
    "- The third element will contain the substring after the specified string.\n",
    "\n",
    "![image.png](attachment:image.png)\n",
    "\n",
    "- String Partition Method Syntax\n",
    "\n",
    "`string.partition(param)`\n",
    "\n",
    "The string partition() method will accept one string parameter to search for the specified substring in the given string."
   ]
  },
  {
   "cell_type": "code",
   "execution_count": 28,
   "id": "b4eef9a0",
   "metadata": {},
   "outputs": [
    {
     "name": "stdout",
     "output_type": "stream",
     "text": [
      "('Hello, Welcome ', 'to', ' python Inernship')\n"
     ]
    }
   ],
   "source": [
    "str = \"Hello, Welcome to python Inernship\"\n",
    "result = str.partition(\"to\")\n",
    "print(result);"
   ]
  },
  {
   "cell_type": "code",
   "execution_count": 29,
   "id": "0d949042",
   "metadata": {},
   "outputs": [
    {
     "name": "stdout",
     "output_type": "stream",
     "text": [
      "('Hello, Welcome to python Inernship', '', '')\n"
     ]
    }
   ],
   "source": [
    "str = \"Hello, Welcome to python Inernship\"\n",
    "result = str.partition(\"test\")\n",
    "print(result);"
   ]
  },
  {
   "cell_type": "code",
   "execution_count": 30,
   "id": "be9c711c",
   "metadata": {},
   "outputs": [
    {
     "name": "stdout",
     "output_type": "stream",
     "text": [
      "('Hello, Welcome ', 'to', ' python to Inernship')\n"
     ]
    }
   ],
   "source": [
    "str = \"Hello, Welcome to python to Inernship\"\n",
    "result = str.partition(\"to\")\n",
    "print(result);"
   ]
  },
  {
   "cell_type": "code",
   "execution_count": 31,
   "id": "51a99e81",
   "metadata": {},
   "outputs": [
    {
     "name": "stdout",
     "output_type": "stream",
     "text": [
      "('', 'to', ' Hello, Welcome to python to Inernship')\n"
     ]
    }
   ],
   "source": [
    "str = \"to Hello, Welcome to python to Inernship\"\n",
    "result = str.partition(\"to\")\n",
    "print(result);"
   ]
  },
  {
   "cell_type": "markdown",
   "id": "4b90cfa4",
   "metadata": {},
   "source": [
    "<center><h1>Happy Learning </h1></center>"
   ]
  }
 ],
 "metadata": {
  "kernelspec": {
   "display_name": "Python 3 (ipykernel)",
   "language": "python",
   "name": "python3"
  },
  "language_info": {
   "codemirror_mode": {
    "name": "ipython",
    "version": 3
   },
   "file_extension": ".py",
   "mimetype": "text/x-python",
   "name": "python",
   "nbconvert_exporter": "python",
   "pygments_lexer": "ipython3",
   "version": "3.9.17"
  }
 },
 "nbformat": 4,
 "nbformat_minor": 5
}
